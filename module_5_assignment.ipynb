{
  "nbformat": 4,
  "nbformat_minor": 0,
  "metadata": {
    "colab": {
      "provenance": []
    },
    "kernelspec": {
      "name": "python3",
      "display_name": "Python 3"
    },
    "language_info": {
      "name": "python"
    }
  },
  "cells": [
    {
      "cell_type": "markdown",
      "source": [
        "**ans 1.** programming paradigm that organizes code using objects, classes, inheritance, polymorphism, and encapsulation.\n"
      ],
      "metadata": {
        "id": "Chefg5CIJsTL"
      }
    },
    {
      "cell_type": "markdown",
      "source": [
        "**ans 2.**  blueprint or template defining properties and behaviors of an object.\n"
      ],
      "metadata": {
        "id": "bD1inHJ5UI5W"
      }
    },
    {
      "cell_type": "markdown",
      "source": [
        "**ans 3** an instance of a class, representing a real-world entity or concept.\n"
      ],
      "metadata": {
        "id": "FbKWbaj3USMG"
      }
    },
    {
      "cell_type": "markdown",
      "source": [
        "**ans 4**.\n",
        "    - Abstraction: Hiding complex details, showing only necessary information.\n",
        "    - Encapsulation: Bundling data and methods that manipulate it within a single unit.\n",
        "\n"
      ],
      "metadata": {
        "id": "n7Rzt2RoUa--"
      }
    },
    {
      "cell_type": "markdown",
      "source": [
        "**ans 5**. special methods surrounded by double underscores (e.g., __init__, __str__) that override default behaviors.\n"
      ],
      "metadata": {
        "id": "DrKvi_Z8UfMl"
      }
    },
    {
      "cell_type": "markdown",
      "source": [
        "**ans 6**. mechanism where a class inherits properties and behaviors from another class.\n"
      ],
      "metadata": {
        "id": "k7DZiEU1UjM-"
      }
    },
    {
      "cell_type": "markdown",
      "source": [
        "**ans 7**. the ability of an object to take multiple forms, depending on the context."
      ],
      "metadata": {
        "id": "NSpgM_vEUnFN"
      }
    },
    {
      "cell_type": "markdown",
      "source": [
        "**ans 8.** achieved using classes and objects, where data is bundled with methods that manipulate it.\n"
      ],
      "metadata": {
        "id": "pfiu_im2Urom"
      }
    },
    {
      "cell_type": "markdown",
      "source": [
        "**ans 9.** special method (__init__) that initializes an object when it's created.\n",
        "\n"
      ],
      "metadata": {
        "id": "ajbVF8F7Uu3N"
      }
    },
    {
      "cell_type": "markdown",
      "source": [
        "**ans 10.**\n",
        "    - Class method: A method bound to a class, rather than an instance.\n",
        "    - Static method: A method that belongs to a class, but doesn't require an instance."
      ],
      "metadata": {
        "id": "vWomgcHcUyrm"
      }
    },
    {
      "cell_type": "markdown",
      "source": [
        "**ans 11.** not directly supported; instead, use default argument values or variable-length argument lists.\n"
      ],
      "metadata": {
        "id": "cHjQ2H9UU4ud"
      }
    },
    {
      "cell_type": "markdown",
      "source": [
        "**ans 12.** Method Overriding in OOP: A subclass provides a different implementation of a method already defined in its superclass.\n"
      ],
      "metadata": {
        "id": "QB-LHD4tU9TV"
      }
    },
    {
      "cell_type": "markdown",
      "source": [
        "**ans 13.** 1. Property Decorator in Python: A decorator that allows a method to be accessed like an attribute.\n",
        "2. Abstract Class in Python: A class that cannot be instantiated and is designed to be inherited by other classes, using the ABC module.\n"
      ],
      "metadata": {
        "id": "1KLl68u8VA61"
      }
    },
    {
      "cell_type": "markdown",
      "source": [
        "**ans 14.** Importance of Polymorphism in OOP: Allows for more flexibility, generic code, and easier maintenance.\n",
        "2. Multiple Inheritance in Python: A class can inherit from multiple superclasses, using commas to separate them.\n"
      ],
      "metadata": {
        "id": "dbp8u-IIVI4G"
      }
    },
    {
      "cell_type": "markdown",
      "source": [
        "**ans 15**. Class Variable vs Instance Variable:\n",
        "    - Class Variable: Shared among all instances of a class.\n",
        "    - Instance Variable: Unique to each instance of a class.\n",
        "2. str_ and __repr__ Methods in Python_:\n",
        "    - str: Returns a human-readable string representation.\n",
        "    - repr: Returns a string representation for debugging purposes.\n",
        "3. super() Function in Python: Allows a subclass to access methods and properties of its superclass.\n"
      ],
      "metadata": {
        "id": "jdYGcw9WVM6n"
      }
    },
    {
      "cell_type": "markdown",
      "source": [
        "**ans 16.**\n",
        "    - Promotes code reusability and modularity\n",
        "    - Easier maintenance and modification\n",
        "    - Improved readability and organization\n",
        "    - Better representation of real-world objects and systems\n",
        "\n"
      ],
      "metadata": {
        "id": "pLSgSrI1VQeW"
      }
    },
    {
      "cell_type": "markdown",
      "source": [
        "**ans 17**\n",
        "1. Class Variable vs Instance Variable:\n",
        "    - Class Variable: Shared among all instances of a class.\n",
        "    - Instance Variable: Unique to each instance of a class.\n"
      ],
      "metadata": {
        "id": "FOzYtZtFVZgO"
      }
    },
    {
      "cell_type": "markdown",
      "source": [
        "**ans 18.** Multiple Inheritance in Python: A class can inherit from multiple superclasses, using commas to separate them.\n",
        "\n"
      ],
      "metadata": {
        "id": "AefaIRSDVedl"
      }
    },
    {
      "cell_type": "markdown",
      "source": [
        "**ans 19**\n",
        "1. str_ and __repr__ Methods in Python_:\n",
        "    - __str__: Returns a human-readable string representation.\n",
        "    - __repr__: Returns a string representation for debugging purposes.\n",
        "\n"
      ],
      "metadata": {
        "id": "0mOqWrDDVho1"
      }
    },
    {
      "cell_type": "markdown",
      "source": [
        "**ans 20**. super() Function in Python: Allows a subclass to access methods and properties of its superclass.\n",
        "\n"
      ],
      "metadata": {
        "id": "S4176RTFVmTV"
      }
    },
    {
      "cell_type": "markdown",
      "source": [
        "**ans 21. **\n",
        "The __del__ method, also known as the destructor, is a special method in Python classes. It is called when an object is about to be destroyed, which can occur when the object's reference count reaches zero or when the program exits.\n",
        "\n",
        "- Releasing system resources, such as file handles or network connections.\n",
        "- Cleaning up temporary files or data.\n",
        "- Performing any necessary finalization tasks.\n",
        "\n"
      ],
      "metadata": {
        "id": "5E-VWkftV1s1"
      }
    },
    {
      "cell_type": "markdown",
      "source": [
        "**ans 22.**\n",
        "@staticmethod and @classmethod are two types of decorators used to define methods within a class.\n",
        "\n",
        "- @staticmethod: A static method is a method that belongs to a class rather than an instance of the class. It can be called without creating an instance of the class, and it does not have access to the class's instance variables.\n",
        "- @classmethod: A class method is a method that is bound to the class rather than the instance of the class. It can access or modify class state, i.e., class variables. It is called on the class itself, rather than on an instance of the class.\n",
        "\n"
      ],
      "metadata": {
        "id": "rXPtDsvIV8Qt"
      }
    },
    {
      "cell_type": "markdown",
      "source": [
        "**ans 23.**\n",
        "Polymorphism is the ability of an object to take on multiple forms. In Python, polymorphism is achieved through method overriding or method overloading in conjunction with inheritance\n",
        "example:\n",
        "\n",
        "class Animal:\n",
        "    def sound(self):\n",
        "        pass\n",
        "\n",
        "class Dog(Animal):\n",
        "    def sound(self):\n",
        "        return \"Woof!\"\n",
        "\n",
        "class Cat(Animal):\n",
        "    def sound(self):\n",
        "        return \"Meow!\"\n",
        "\n",
        "def make_sound(animal: Animal):\n",
        "    print(animal.sound())\n",
        "\n",
        "dog = Dog()\n",
        "cat = Cat()\n",
        "\n",
        "make_sound(dog)\n",
        "make_sound(cat)  \n"
      ],
      "metadata": {
        "id": "6XMm5d3LV_tt"
      }
    },
    {
      "cell_type": "markdown",
      "source": [
        "**ans 24.**\n",
        "Method chaining is a technique in object-oriented programming where multiple methods are called on the same object in a single line of code, with each method returning the object itself.\n",
        "\n",
        "example:\n",
        "\n"
      ],
      "metadata": {
        "id": "m4NXSMRNWIdd"
      }
    },
    {
      "cell_type": "code",
      "source": [
        "class Person:\n",
        "    def __init__(self, name):\n",
        "        self.name = name\n",
        "\n",
        "    def set_age(self, age):\n",
        "        self.age = age\n",
        "        return self\n",
        "\n",
        "    def set_address(self, address):\n",
        "        self.address = address\n",
        "        return self\n",
        "\n",
        "    def introduce(self):\n",
        "        print(f\"Hello, my name is {self.name}, I'm {self.age} years old, and I live at {self.address}.\")\n",
        "\n",
        "person = Person(\"John\")\n",
        "person.set_age(30).set_address(\"123 Main St\").introduce()\n"
      ],
      "metadata": {
        "colab": {
          "base_uri": "https://localhost:8080/"
        },
        "id": "qu08Bm8ZWRhu",
        "outputId": "b66ab57b-196a-4307-cf8d-77edbb638521"
      },
      "execution_count": 1,
      "outputs": [
        {
          "output_type": "stream",
          "name": "stdout",
          "text": [
            "Hello, my name is John, I'm 30 years old, and I live at 123 Main St.\n"
          ]
        }
      ]
    },
    {
      "cell_type": "markdown",
      "source": [
        "**ans 25.**\n",
        "The __call__ method in Python is a special method that makes an instance of a class callable. When the instance is called like a function, the __call__ method is invoked.\n",
        "\n",
        "example:\n"
      ],
      "metadata": {
        "id": "RYy4NSX6WOAF"
      }
    },
    {
      "cell_type": "code",
      "source": [
        "class Counter:\n",
        "    def __init__(self):\n",
        "        self.count = 0\n",
        "\n",
        "    def __call__(self):\n",
        "        self.count += 1\n",
        "        return self.count\n",
        "\n",
        "counter = Counter()\n",
        "print(counter())\n",
        "print(counter())\n",
        "print(counter())"
      ],
      "metadata": {
        "colab": {
          "base_uri": "https://localhost:8080/"
        },
        "id": "mWIzE-Q-WZtM",
        "outputId": "a7d2f554-3ac5-4359-e3c8-f12a55e3cd5e"
      },
      "execution_count": 2,
      "outputs": [
        {
          "output_type": "stream",
          "name": "stdout",
          "text": [
            "1\n",
            "2\n",
            "3\n"
          ]
        }
      ]
    },
    {
      "cell_type": "markdown",
      "source": [
        "# **Practical Questions**"
      ],
      "metadata": {
        "id": "HyAX0i3dXDTN"
      }
    },
    {
      "cell_type": "code",
      "source": [
        "# ans 1\n",
        "class Animal:\n",
        "    def speak(self):\n",
        "        print(\"The animal makes a sound.\")\n",
        "\n",
        "class Dog(Animal):\n",
        "    def speak(self):\n",
        "        print(\"Bark!\")\n",
        "\n",
        "animal = Animal()\n",
        "dog = Dog()\n",
        "\n",
        "animal.speak()\n",
        "dog.speak()\n",
        "\n"
      ],
      "metadata": {
        "colab": {
          "base_uri": "https://localhost:8080/"
        },
        "id": "-Rgvrk89WaNC",
        "outputId": "f2539ffb-2baf-48b8-fd79-4fadfa9ca738"
      },
      "execution_count": 3,
      "outputs": [
        {
          "output_type": "stream",
          "name": "stdout",
          "text": [
            "The animal makes a sound.\n",
            "Bark!\n"
          ]
        }
      ]
    },
    {
      "cell_type": "code",
      "source": [
        "# ans 2\n",
        "import math\n",
        "\n",
        "class Shape:\n",
        "    def area(self):\n",
        "        pass\n",
        "\n",
        "class Circle(Shape):\n",
        "    def __init__(self, radius):\n",
        "        self.radius = radius\n",
        "\n",
        "    def area(self):\n",
        "        return math.pi * (self.radius ** 2)\n",
        "\n",
        "class Rectangle(Shape):\n",
        "    def __init__(self, length, width):\n",
        "        self.length = length\n",
        "        self.width = width\n",
        "\n",
        "    def area(self):\n",
        "        return self.length * self.width\n",
        "\n",
        "circle = Circle(5)\n",
        "rectangle = Rectangle(4, 6)\n",
        "\n",
        "print(f\"Circle area: {circle.area():.2f}\")\n",
        "print(f\"Rectangle area: {rectangle.area()}\")\n"
      ],
      "metadata": {
        "colab": {
          "base_uri": "https://localhost:8080/"
        },
        "id": "xq4KeS3OXY3T",
        "outputId": "0306b4b6-d41b-409a-e321-3cad94223cce"
      },
      "execution_count": 4,
      "outputs": [
        {
          "output_type": "stream",
          "name": "stdout",
          "text": [
            "Circle area: 78.54\n",
            "Rectangle area: 24\n"
          ]
        }
      ]
    },
    {
      "cell_type": "code",
      "source": [
        "# ans 3 and 4\n",
        "class Vehicle:\n",
        "    def __init__(self, type):\n",
        "        self.type = type\n",
        "\n",
        "    def display_details(self):\n",
        "        print(f\"Vehicle Type: {self.type}\")\n",
        "\n",
        "class Car(Vehicle):\n",
        "    def __init__(self, type, brand, model):\n",
        "        super().__init__(type)\n",
        "        self.brand = brand\n",
        "        self.model = model\n",
        "\n",
        "    def display_details(self):\n",
        "        super().display_details()\n",
        "        print(f\"Brand: {self.brand}, Model: {self.model}\")\n",
        "\n",
        "class ElectricCar(Car):\n",
        "    def __init__(self, type, brand, model, battery_capacity):\n",
        "        super().__init__(type, brand, model)\n",
        "        self.battery_capacity = battery_capacity\n",
        "\n",
        "    def display_details(self):\n",
        "        super().display_details()\n",
        "        print(f\"Battery Capacity: {self.battery_capacity} kWh\")\n",
        "\n",
        "electric_car = ElectricCar(\"Electric\", \"Tesla\", \"Model S\", 100)\n",
        "\n",
        "electric_car.display_details()\n"
      ],
      "metadata": {
        "colab": {
          "base_uri": "https://localhost:8080/"
        },
        "id": "Jclur0KoYDdu",
        "outputId": "834029e2-4113-4381-f612-745fdeff27ee"
      },
      "execution_count": 5,
      "outputs": [
        {
          "output_type": "stream",
          "name": "stdout",
          "text": [
            "Vehicle Type: Electric\n",
            "Brand: Tesla, Model: Model S\n",
            "Battery Capacity: 100 kWh\n"
          ]
        }
      ]
    },
    {
      "cell_type": "code",
      "source": [
        "# ans 5\n",
        "class BankAccount:\n",
        "    def __init__(self, initial_balance):\n",
        "        self.__balance = initial_balance\n",
        "\n",
        "    def deposit(self, amount):\n",
        "        self.__balance += amount\n",
        "        print(f\"Deposited ${amount}. Current balance: ${self.__balance}\")\n",
        "\n",
        "    def withdraw(self, amount):\n",
        "        if amount > self.__balance:\n",
        "            print(\"Insufficient funds.\")\n",
        "        else:\n",
        "            self.__balance -= amount\n",
        "            print(f\"Withdrew ${amount}. Current balance: ${self.__balance}\")\n",
        "\n",
        "    def check_balance(self):\n",
        "        print(f\"Current balance: ${self.__balance}\")\n",
        "\n",
        "account = BankAccount(1000)\n",
        "\n",
        "account.deposit(500)\n",
        "account.withdraw(200)\n",
        "account.check_balance()"
      ],
      "metadata": {
        "colab": {
          "base_uri": "https://localhost:8080/"
        },
        "id": "vxx0dqjAY7N1",
        "outputId": "d940ba8d-3d28-4ef0-f8a0-a1a8f03e7593"
      },
      "execution_count": 6,
      "outputs": [
        {
          "output_type": "stream",
          "name": "stdout",
          "text": [
            "Deposited $500. Current balance: $1500\n",
            "Withdrew $200. Current balance: $1300\n",
            "Current balance: $1300\n"
          ]
        }
      ]
    },
    {
      "cell_type": "code",
      "source": [
        "# ans 6\n",
        "class Instrument:\n",
        "    def play(self):\n",
        "        pass\n",
        "\n",
        "class Guitar(Instrument):\n",
        "    def play(self):\n",
        "        print(\"Strumming the guitar.\")\n",
        "\n",
        "class Piano(Instrument):\n",
        "    def play(self):\n",
        "        print(\"Playing the piano.\")\n",
        "\n",
        "def play_instrument(instrument: Instrument):\n",
        "    instrument.play()\n",
        "\n",
        "guitar = Guitar()\n",
        "piano = Piano()\n",
        "\n",
        "play_instrument(guitar)\n",
        "play_instrument(piano)\n"
      ],
      "metadata": {
        "colab": {
          "base_uri": "https://localhost:8080/"
        },
        "id": "BUgStthFZLzY",
        "outputId": "2a2e4330-c13e-4863-e541-b53df7b95521"
      },
      "execution_count": 7,
      "outputs": [
        {
          "output_type": "stream",
          "name": "stdout",
          "text": [
            "Strumming the guitar.\n",
            "Playing the piano.\n"
          ]
        }
      ]
    },
    {
      "cell_type": "code",
      "source": [
        "# ans 7\n",
        "class MathOperations:\n",
        "    @classmethod\n",
        "    def add_numbers(cls, num1, num2):\n",
        "        \"\"\"Class method to add two numbers\"\"\"\n",
        "        return num1 + num2\n",
        "\n",
        "    @staticmethod\n",
        "    def subtract_numbers(num1, num2):\n",
        "        \"\"\"Static method to subtract two numbers\"\"\"\n",
        "        return num1 - num2\n",
        "\n",
        "result1 = MathOperations.add_numbers(10, 5)\n",
        "print(f\"Addition result: {result1}\")\n",
        "\n",
        "result2 = MathOperations.subtract_numbers(10, 5)\n",
        "print(f\"Subtraction result: {result2}\")\n",
        "\n"
      ],
      "metadata": {
        "colab": {
          "base_uri": "https://localhost:8080/"
        },
        "id": "L5zG1myMZkK7",
        "outputId": "22cc7267-24ca-4a5d-9028-6b85e112220f"
      },
      "execution_count": 8,
      "outputs": [
        {
          "output_type": "stream",
          "name": "stdout",
          "text": [
            "Addition result: 15\n",
            "Subtraction result: 5\n"
          ]
        }
      ]
    },
    {
      "cell_type": "code",
      "source": [
        "# ans 8\n",
        "class Person:\n",
        "    person_count = 0\n",
        "\n",
        "    def __init__(self, name, age):\n",
        "        self.name = name\n",
        "        self.age = age\n",
        "        Person.person_count += 1\n",
        "\n",
        "    @classmethod\n",
        "    def get_person_count(cls):\n",
        "        \"\"\"Class method to get the total number of persons\"\"\"\n",
        "        return cls.person_count\n",
        "\n",
        "person1 = Person(\"shriya\", 22)\n",
        "person2 = Person(\"Aditya\", 25)\n",
        "person3 = Person(\"Shivam\", 24)\n",
        "\n",
        "total_persons = Person.get_person_count()\n",
        "print(f\"Total persons: {total_persons}\")\n"
      ],
      "metadata": {
        "colab": {
          "base_uri": "https://localhost:8080/"
        },
        "id": "3tsU5uPRa9ap",
        "outputId": "636b7538-cb6a-4e2c-8745-bb95f9c7fc4b"
      },
      "execution_count": 12,
      "outputs": [
        {
          "output_type": "stream",
          "name": "stdout",
          "text": [
            "Total persons: 3\n"
          ]
        }
      ]
    },
    {
      "cell_type": "code",
      "source": [
        "# ans 9\n",
        "class Fraction:\n",
        "    def __init__(self, numerator, denominator):\n",
        "        self.numerator = numerator\n",
        "        self.denominator = denominator\n",
        "\n",
        "    def __str__(self):\n",
        "        \"\"\"Override str method to display fraction\"\"\"\n",
        "        return f\"{self.numerator}/{self.denominator}\"\n",
        "\n",
        "fraction1 = Fraction(3, 4)\n",
        "fraction2 = Fraction(2, 3)\n",
        "\n",
        "print(fraction1)\n",
        "print(fraction2)\n"
      ],
      "metadata": {
        "colab": {
          "base_uri": "https://localhost:8080/"
        },
        "id": "Lm63qiLEbHcv",
        "outputId": "09d93abe-ef7f-4abf-f353-d5a373aa5809"
      },
      "execution_count": 10,
      "outputs": [
        {
          "output_type": "stream",
          "name": "stdout",
          "text": [
            "3/4\n",
            "2/3\n"
          ]
        }
      ]
    },
    {
      "cell_type": "code",
      "source": [
        "# ans 10\n",
        "class Vector:\n",
        "    def __init__(self, x, y):\n",
        "        self.x = x\n",
        "        self.y = y\n",
        "\n",
        "    def __add__(self, other):\n",
        "        \"\"\"Override add method to add two vectors\"\"\"\n",
        "        return Vector(self.x + other.x, self.y + other.y)\n",
        "\n",
        "    def __str__(self):\n",
        "        \"\"\"Override str method to display vector\"\"\"\n",
        "        return f\"({self.x}, {self.y})\"\n",
        "\n",
        "vector1 = Vector(2, 3)\n",
        "vector2 = Vector(4, 5)\n",
        "\n",
        "result_vector = vector1 + vector2\n",
        "\n",
        "print(vector1)\n",
        "print(vector2)\n",
        "print(result_vector)\n"
      ],
      "metadata": {
        "colab": {
          "base_uri": "https://localhost:8080/"
        },
        "id": "Pew8DoYPc9_k",
        "outputId": "afee70ec-d3ab-4750-c563-49bd057f8dfe"
      },
      "execution_count": 11,
      "outputs": [
        {
          "output_type": "stream",
          "name": "stdout",
          "text": [
            "(2, 3)\n",
            "(4, 5)\n",
            "(6, 8)\n"
          ]
        }
      ]
    },
    {
      "cell_type": "code",
      "source": [
        "# ans 11\n",
        "class Person:\n",
        "    def __init__(self, name, age):\n",
        "        self.name = name\n",
        "        self.age = age\n",
        "\n",
        "    def greet(self):\n",
        "        \"\"\"Print a greeting message\"\"\"\n",
        "        print(f\"Hello, my name is {self.name} and I am {self.age} years old.\")\n",
        "\n",
        "person = Person(\"shriya\", 22)\n",
        "\n",
        "person.greet()\n"
      ],
      "metadata": {
        "colab": {
          "base_uri": "https://localhost:8080/"
        },
        "id": "TPOjBfCQdKVr",
        "outputId": "8e529848-1fe4-4002-cbb2-ee910b4511c7"
      },
      "execution_count": 16,
      "outputs": [
        {
          "output_type": "stream",
          "name": "stdout",
          "text": [
            "Hello, my name is shriya and I am 22 years old.\n"
          ]
        }
      ]
    },
    {
      "cell_type": "code",
      "source": [
        "# ans 12\n",
        "class Student:\n",
        "    def __init__(self, name, grades):\n",
        "        self.name = name\n",
        "        self.grades = grades\n",
        "\n",
        "    def average_grade(self):\n",
        "        \"\"\"Compute the average of the grades\"\"\"\n",
        "        return sum(self.grades) / len(self.grades)\n",
        "\n",
        "student = Student(\"Shriya\", [90, 85, 95, 88])\n",
        "\n",
        "average = student.average_grade()\n",
        "print(f\"{student.name}'s average grade is: {average:.2f}\")\n"
      ],
      "metadata": {
        "colab": {
          "base_uri": "https://localhost:8080/"
        },
        "id": "7yDqbfsRd61A",
        "outputId": "a751b685-5d5c-4704-dd69-a159995e7e6b"
      },
      "execution_count": 17,
      "outputs": [
        {
          "output_type": "stream",
          "name": "stdout",
          "text": [
            "Shriya's average grade is: 89.50\n"
          ]
        }
      ]
    },
    {
      "cell_type": "code",
      "source": [
        "# ans 13\n",
        "class Rectangle:\n",
        "    def __init__(self):\n",
        "        self.length = 0\n",
        "        self.width = 0\n",
        "\n",
        "    def set_dimensions(self, length, width):\n",
        "        \"\"\"Set the dimensions of the rectangle\"\"\"\n",
        "        self.length = length\n",
        "        self.width = width\n",
        "\n",
        "    def area(self):\n",
        "        \"\"\"Calculate the area of the rectangle\"\"\"\n",
        "        return self.length * self.width\n",
        "\n",
        "rectangle = Rectangle()\n",
        "\n",
        "rectangle.set_dimensions(5, 3)\n",
        "print(f\"Area: {rectangle.area()}\")\n",
        "\n"
      ],
      "metadata": {
        "colab": {
          "base_uri": "https://localhost:8080/"
        },
        "id": "CLFT_DzTe4za",
        "outputId": "c54518e7-4e63-4de5-855c-b4e4741c8521"
      },
      "execution_count": 18,
      "outputs": [
        {
          "output_type": "stream",
          "name": "stdout",
          "text": [
            "Area: 15\n"
          ]
        }
      ]
    },
    {
      "cell_type": "code",
      "source": [
        "# ans 14\n",
        "class Employee:\n",
        "    def __init__(self, name, hours_worked, hourly_rate):\n",
        "        self.name = name\n",
        "        self.hours_worked = hours_worked\n",
        "        self.hourly_rate = hourly_rate\n",
        "\n",
        "    def calculate_salary(self):\n",
        "        \"\"\"Calculate the salary based on hours worked and hourly rate\"\"\"\n",
        "        return self.hours_worked * self.hourly_rate\n",
        "\n",
        "class Manager(Employee):\n",
        "    def __init__(self, name, hours_worked, hourly_rate, bonus):\n",
        "        super().__init__(name, hours_worked, hourly_rate)\n",
        "        self.bonus = bonus\n",
        "\n",
        "    def calculate_salary(self):\n",
        "        \"\"\"Calculate the salary with bonus\"\"\"\n",
        "        return super().calculate_salary() + self.bonus\n",
        "\n",
        "employee = Employee(\"Shriya\", 40, 25)\n",
        "manager = Manager(\"Siya\", 40, 30, 1000)\n",
        "\n",
        "print(f\"Employee salary: ${employee.calculate_salary()}\")\n",
        "print(f\"Manager salary: ${manager.calculate_salary()}\")\n"
      ],
      "metadata": {
        "colab": {
          "base_uri": "https://localhost:8080/"
        },
        "id": "iQCzND_AfVhK",
        "outputId": "d6ac164a-44d7-485c-9788-057f28306b3c"
      },
      "execution_count": 32,
      "outputs": [
        {
          "output_type": "stream",
          "name": "stdout",
          "text": [
            "Employee salary: $1000\n",
            "Manager salary: $2200\n"
          ]
        }
      ]
    },
    {
      "cell_type": "code",
      "source": [
        "# ans 15\n",
        "class Product:\n",
        "    def __init__(self, name, price, quantity):\n",
        "        self.name = name\n",
        "        self.price = price\n",
        "        self.quantity = quantity\n",
        "\n",
        "    def total_price(self):\n",
        "        \"\"\"Calculate the total price of the product\"\"\"\n",
        "        return self.price * self.quantity\n",
        "\n",
        "product = Product(\"Laptop\", 1000, 5)\n",
        "\n",
        "print(f\"Total price: ${product.total_price()}\")\n"
      ],
      "metadata": {
        "colab": {
          "base_uri": "https://localhost:8080/"
        },
        "id": "LkYhrJTvfblD",
        "outputId": "d8c45ce6-4d6e-4ef2-9036-be3486d23fbf"
      },
      "execution_count": 21,
      "outputs": [
        {
          "output_type": "stream",
          "name": "stdout",
          "text": [
            "Total price: $5000\n"
          ]
        }
      ]
    },
    {
      "cell_type": "code",
      "source": [
        "# ans 16\n",
        "\n",
        "from abc import ABC, abstractmethod\n",
        "\n",
        "class Animal(ABC):\n",
        "    @abstractmethod\n",
        "    def sound(self):\n",
        "        \"\"\"Abstract method to make a sound\"\"\"\n",
        "        pass\n",
        "\n",
        "class Cow(Animal):\n",
        "    def sound(self):\n",
        "        \"\"\"Implement sound method for Cow\"\"\"\n",
        "        return \"Moo!\"\n",
        "\n",
        "class Sheep(Animal):\n",
        "    def sound(self):\n",
        "        \"\"\"Implement sound method for Sheep\"\"\"\n",
        "        return \"Baa!\"\n",
        "\n",
        "cow = Cow()\n",
        "sheep = Sheep()\n",
        "\n",
        "print(f\"Cow says: {cow.sound()}\")\n",
        "print(f\"Sheep says: {sheep.sound()}\")\n",
        "\n"
      ],
      "metadata": {
        "colab": {
          "base_uri": "https://localhost:8080/"
        },
        "id": "m2LEC2iDf3SL",
        "outputId": "9b74244c-7262-4088-bbdd-20bd2bf20232"
      },
      "execution_count": 25,
      "outputs": [
        {
          "output_type": "stream",
          "name": "stdout",
          "text": [
            "Cow says: Moo!\n",
            "Sheep says: Baa!\n"
          ]
        }
      ]
    },
    {
      "cell_type": "code",
      "source": [
        "# ans 17\n",
        "\n",
        "class Book:\n",
        "    def __init__(self, title, author, year_published):\n",
        "        self.title = title\n",
        "        self.author = author\n",
        "        self.year_published = year_published\n",
        "\n",
        "    def get_book_info(self):\n",
        "        \"\"\"Return a formatted string with the book's details\"\"\"\n",
        "        return f\"'{self.title}' by {self.author}, published in {self.year_published}\"\n",
        "\n",
        "book = Book( \"Mrityunjaya\", \"Shivaji Sawant\", 1974)\n",
        "\n",
        "print(book.get_book_info())\n"
      ],
      "metadata": {
        "colab": {
          "base_uri": "https://localhost:8080/"
        },
        "id": "YZUuxgV5gCVi",
        "outputId": "4c5c6e79-bdb1-4088-e6bb-896d15e46b49"
      },
      "execution_count": 29,
      "outputs": [
        {
          "output_type": "stream",
          "name": "stdout",
          "text": [
            "'Mrityunjaya' by Shivaji Sawant, published in 1974\n"
          ]
        }
      ]
    },
    {
      "cell_type": "code",
      "source": [
        "# ans 18\n",
        "class House:\n",
        "    def __init__(self, address, price):\n",
        "        self.address = address\n",
        "        self.price = price\n",
        "\n",
        "    def get_house_info(self):\n",
        "        \"\"\"Return a formatted string with the house's details\"\"\"\n",
        "        return f\"Address: {self.address}, Price: ${self.price}\"\n",
        "\n",
        "class Mansion(House):\n",
        "    def __init__(self, address, price, number_of_rooms):\n",
        "        super().__init__(address, price)\n",
        "        self.number_of_rooms = number_of_rooms\n",
        "\n",
        "    def get_house_info(self):\n",
        "        \"\"\"Return a formatted string with the mansion's details\"\"\"\n",
        "        return f\"{super().get_house_info()}, Number of Rooms: {self.number_of_rooms}\"\n",
        "\n",
        "house = House(\"prashant plazza\", 500000)\n",
        "\n",
        "mansion = Mansion(\"aryan residency\", 2000000, 10)\n",
        "\n",
        "print(house.get_house_info())\n",
        "print(mansion.get_house_info())\n"
      ],
      "metadata": {
        "colab": {
          "base_uri": "https://localhost:8080/"
        },
        "id": "bY3z5UevgqmS",
        "outputId": "07421ec4-768d-421f-8753-856479d45b9d"
      },
      "execution_count": 31,
      "outputs": [
        {
          "output_type": "stream",
          "name": "stdout",
          "text": [
            "Address: prashant plazza, Price: $500000\n",
            "Address: aryan residency, Price: $2000000, Number of Rooms: 10\n"
          ]
        }
      ]
    },
    {
      "cell_type": "code",
      "source": [],
      "metadata": {
        "id": "YE5XCrj-hirp"
      },
      "execution_count": null,
      "outputs": []
    }
  ]
}